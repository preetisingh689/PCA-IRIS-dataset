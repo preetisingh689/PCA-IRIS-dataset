{
 "cells": [
  {
   "cell_type": "markdown",
   "id": "unlike-edwards",
   "metadata": {
    "papermill": {
     "duration": 0.038709,
     "end_time": "2021-06-21T16:03:17.666954",
     "exception": false,
     "start_time": "2021-06-21T16:03:17.628245",
     "status": "completed"
    },
    "tags": []
   },
   "source": [
    "## PCA Demonstration in Python"
   ]
  },
  {
   "cell_type": "code",
   "execution_count": 1,
   "id": "attached-spell",
   "metadata": {
    "execution": {
     "iopub.execute_input": "2021-06-21T16:03:17.737937Z",
     "iopub.status.busy": "2021-06-21T16:03:17.737480Z",
     "iopub.status.idle": "2021-06-21T16:03:17.740576Z",
     "shell.execute_reply": "2021-06-21T16:03:17.741131Z",
     "shell.execute_reply.started": "2021-06-21T16:00:52.769974Z"
    },
    "papermill": {
     "duration": 0.041439,
     "end_time": "2021-06-21T16:03:17.741440",
     "exception": false,
     "start_time": "2021-06-21T16:03:17.700001",
     "status": "completed"
    },
    "tags": []
   },
   "outputs": [],
   "source": [
    "# Importing the required libraries"
   ]
  },
  {
   "cell_type": "code",
   "execution_count": 2,
   "id": "optical-sarah",
   "metadata": {
    "execution": {
     "iopub.execute_input": "2021-06-21T16:03:17.845469Z",
     "iopub.status.busy": "2021-06-21T16:03:17.844880Z",
     "iopub.status.idle": "2021-06-21T16:03:17.849808Z",
     "shell.execute_reply": "2021-06-21T16:03:17.849079Z",
     "shell.execute_reply.started": "2021-06-21T16:00:52.780096Z"
    },
    "papermill": {
     "duration": 0.058843,
     "end_time": "2021-06-21T16:03:17.849982",
     "exception": false,
     "start_time": "2021-06-21T16:03:17.791139",
     "status": "completed"
    },
    "tags": []
   },
   "outputs": [],
   "source": [
    "import numpy as np, pandas as pd"
   ]
  },
  {
   "cell_type": "code",
   "execution_count": 3,
   "id": "anticipated-floating",
   "metadata": {
    "execution": {
     "iopub.execute_input": "2021-06-21T16:03:17.965884Z",
     "iopub.status.busy": "2021-06-21T16:03:17.965238Z",
     "iopub.status.idle": "2021-06-21T16:03:17.992126Z",
     "shell.execute_reply": "2021-06-21T16:03:17.992658Z",
     "shell.execute_reply.started": "2021-06-21T16:00:52.793592Z"
    },
    "papermill": {
     "duration": 0.087709,
     "end_time": "2021-06-21T16:03:17.992834",
     "exception": false,
     "start_time": "2021-06-21T16:03:17.905125",
     "status": "completed"
    },
    "tags": []
   },
   "outputs": [],
   "source": [
    "data = pd.read_csv(\"../input/iris-flower-dataset/IRIS.csv\")"
   ]
  },
  {
   "cell_type": "code",
   "execution_count": 4,
   "id": "smart-exhibition",
   "metadata": {
    "execution": {
     "iopub.execute_input": "2021-06-21T16:03:18.104512Z",
     "iopub.status.busy": "2021-06-21T16:03:18.102895Z",
     "iopub.status.idle": "2021-06-21T16:03:18.130663Z",
     "shell.execute_reply": "2021-06-21T16:03:18.130227Z",
     "shell.execute_reply.started": "2021-06-21T16:00:52.809122Z"
    },
    "papermill": {
     "duration": 0.088291,
     "end_time": "2021-06-21T16:03:18.130780",
     "exception": false,
     "start_time": "2021-06-21T16:03:18.042489",
     "status": "completed"
    },
    "tags": []
   },
   "outputs": [
    {
     "data": {
      "text/html": [
       "<div>\n",
       "<style scoped>\n",
       "    .dataframe tbody tr th:only-of-type {\n",
       "        vertical-align: middle;\n",
       "    }\n",
       "\n",
       "    .dataframe tbody tr th {\n",
       "        vertical-align: top;\n",
       "    }\n",
       "\n",
       "    .dataframe thead th {\n",
       "        text-align: right;\n",
       "    }\n",
       "</style>\n",
       "<table border=\"1\" class=\"dataframe\">\n",
       "  <thead>\n",
       "    <tr style=\"text-align: right;\">\n",
       "      <th></th>\n",
       "      <th>sepal_length</th>\n",
       "      <th>sepal_width</th>\n",
       "      <th>petal_length</th>\n",
       "      <th>petal_width</th>\n",
       "      <th>species</th>\n",
       "    </tr>\n",
       "  </thead>\n",
       "  <tbody>\n",
       "    <tr>\n",
       "      <th>0</th>\n",
       "      <td>5.1</td>\n",
       "      <td>3.5</td>\n",
       "      <td>1.4</td>\n",
       "      <td>0.2</td>\n",
       "      <td>Iris-setosa</td>\n",
       "    </tr>\n",
       "    <tr>\n",
       "      <th>1</th>\n",
       "      <td>4.9</td>\n",
       "      <td>3.0</td>\n",
       "      <td>1.4</td>\n",
       "      <td>0.2</td>\n",
       "      <td>Iris-setosa</td>\n",
       "    </tr>\n",
       "    <tr>\n",
       "      <th>2</th>\n",
       "      <td>4.7</td>\n",
       "      <td>3.2</td>\n",
       "      <td>1.3</td>\n",
       "      <td>0.2</td>\n",
       "      <td>Iris-setosa</td>\n",
       "    </tr>\n",
       "    <tr>\n",
       "      <th>3</th>\n",
       "      <td>4.6</td>\n",
       "      <td>3.1</td>\n",
       "      <td>1.5</td>\n",
       "      <td>0.2</td>\n",
       "      <td>Iris-setosa</td>\n",
       "    </tr>\n",
       "    <tr>\n",
       "      <th>4</th>\n",
       "      <td>5.0</td>\n",
       "      <td>3.6</td>\n",
       "      <td>1.4</td>\n",
       "      <td>0.2</td>\n",
       "      <td>Iris-setosa</td>\n",
       "    </tr>\n",
       "  </tbody>\n",
       "</table>\n",
       "</div>"
      ],
      "text/plain": [
       "   sepal_length  sepal_width  petal_length  petal_width      species\n",
       "0           5.1          3.5           1.4          0.2  Iris-setosa\n",
       "1           4.9          3.0           1.4          0.2  Iris-setosa\n",
       "2           4.7          3.2           1.3          0.2  Iris-setosa\n",
       "3           4.6          3.1           1.5          0.2  Iris-setosa\n",
       "4           5.0          3.6           1.4          0.2  Iris-setosa"
      ]
     },
     "execution_count": 4,
     "metadata": {},
     "output_type": "execute_result"
    }
   ],
   "source": [
    "data.head()"
   ]
  },
  {
   "cell_type": "code",
   "execution_count": 5,
   "id": "english-lecture",
   "metadata": {
    "execution": {
     "iopub.execute_input": "2021-06-21T16:03:18.208671Z",
     "iopub.status.busy": "2021-06-21T16:03:18.208135Z",
     "iopub.status.idle": "2021-06-21T16:03:18.210630Z",
     "shell.execute_reply": "2021-06-21T16:03:18.210006Z",
     "shell.execute_reply.started": "2021-06-21T16:00:52.825921Z"
    },
    "papermill": {
     "duration": 0.042457,
     "end_time": "2021-06-21T16:03:18.210753",
     "exception": false,
     "start_time": "2021-06-21T16:03:18.168296",
     "status": "completed"
    },
    "tags": []
   },
   "outputs": [],
   "source": [
    "y = data.pop(\"species\")"
   ]
  },
  {
   "cell_type": "code",
   "execution_count": 6,
   "id": "legislative-institution",
   "metadata": {
    "execution": {
     "iopub.execute_input": "2021-06-21T16:03:18.290961Z",
     "iopub.status.busy": "2021-06-21T16:03:18.290291Z",
     "iopub.status.idle": "2021-06-21T16:03:18.293798Z",
     "shell.execute_reply": "2021-06-21T16:03:18.293251Z",
     "shell.execute_reply.started": "2021-06-21T16:00:52.836409Z"
    },
    "papermill": {
     "duration": 0.048944,
     "end_time": "2021-06-21T16:03:18.293910",
     "exception": false,
     "start_time": "2021-06-21T16:03:18.244966",
     "status": "completed"
    },
    "tags": []
   },
   "outputs": [
    {
     "data": {
      "text/html": [
       "<div>\n",
       "<style scoped>\n",
       "    .dataframe tbody tr th:only-of-type {\n",
       "        vertical-align: middle;\n",
       "    }\n",
       "\n",
       "    .dataframe tbody tr th {\n",
       "        vertical-align: top;\n",
       "    }\n",
       "\n",
       "    .dataframe thead th {\n",
       "        text-align: right;\n",
       "    }\n",
       "</style>\n",
       "<table border=\"1\" class=\"dataframe\">\n",
       "  <thead>\n",
       "    <tr style=\"text-align: right;\">\n",
       "      <th></th>\n",
       "      <th>sepal_length</th>\n",
       "      <th>sepal_width</th>\n",
       "      <th>petal_length</th>\n",
       "      <th>petal_width</th>\n",
       "    </tr>\n",
       "  </thead>\n",
       "  <tbody>\n",
       "    <tr>\n",
       "      <th>0</th>\n",
       "      <td>5.1</td>\n",
       "      <td>3.5</td>\n",
       "      <td>1.4</td>\n",
       "      <td>0.2</td>\n",
       "    </tr>\n",
       "    <tr>\n",
       "      <th>1</th>\n",
       "      <td>4.9</td>\n",
       "      <td>3.0</td>\n",
       "      <td>1.4</td>\n",
       "      <td>0.2</td>\n",
       "    </tr>\n",
       "    <tr>\n",
       "      <th>2</th>\n",
       "      <td>4.7</td>\n",
       "      <td>3.2</td>\n",
       "      <td>1.3</td>\n",
       "      <td>0.2</td>\n",
       "    </tr>\n",
       "    <tr>\n",
       "      <th>3</th>\n",
       "      <td>4.6</td>\n",
       "      <td>3.1</td>\n",
       "      <td>1.5</td>\n",
       "      <td>0.2</td>\n",
       "    </tr>\n",
       "    <tr>\n",
       "      <th>4</th>\n",
       "      <td>5.0</td>\n",
       "      <td>3.6</td>\n",
       "      <td>1.4</td>\n",
       "      <td>0.2</td>\n",
       "    </tr>\n",
       "  </tbody>\n",
       "</table>\n",
       "</div>"
      ],
      "text/plain": [
       "   sepal_length  sepal_width  petal_length  petal_width\n",
       "0           5.1          3.5           1.4          0.2\n",
       "1           4.9          3.0           1.4          0.2\n",
       "2           4.7          3.2           1.3          0.2\n",
       "3           4.6          3.1           1.5          0.2\n",
       "4           5.0          3.6           1.4          0.2"
      ]
     },
     "execution_count": 6,
     "metadata": {},
     "output_type": "execute_result"
    }
   ],
   "source": [
    "data.head()"
   ]
  },
  {
   "cell_type": "code",
   "execution_count": 7,
   "id": "activated-morris",
   "metadata": {
    "execution": {
     "iopub.execute_input": "2021-06-21T16:03:18.368036Z",
     "iopub.status.busy": "2021-06-21T16:03:18.367577Z",
     "iopub.status.idle": "2021-06-21T16:03:18.390270Z",
     "shell.execute_reply": "2021-06-21T16:03:18.389878Z",
     "shell.execute_reply.started": "2021-06-21T16:00:52.878104Z"
    },
    "papermill": {
     "duration": 0.063105,
     "end_time": "2021-06-21T16:03:18.390392",
     "exception": false,
     "start_time": "2021-06-21T16:03:18.327287",
     "status": "completed"
    },
    "tags": []
   },
   "outputs": [
    {
     "data": {
      "text/html": [
       "<div>\n",
       "<style scoped>\n",
       "    .dataframe tbody tr th:only-of-type {\n",
       "        vertical-align: middle;\n",
       "    }\n",
       "\n",
       "    .dataframe tbody tr th {\n",
       "        vertical-align: top;\n",
       "    }\n",
       "\n",
       "    .dataframe thead th {\n",
       "        text-align: right;\n",
       "    }\n",
       "</style>\n",
       "<table border=\"1\" class=\"dataframe\">\n",
       "  <thead>\n",
       "    <tr style=\"text-align: right;\">\n",
       "      <th></th>\n",
       "      <th>sepal_length</th>\n",
       "      <th>sepal_width</th>\n",
       "      <th>petal_length</th>\n",
       "      <th>petal_width</th>\n",
       "    </tr>\n",
       "  </thead>\n",
       "  <tbody>\n",
       "    <tr>\n",
       "      <th>count</th>\n",
       "      <td>150.000000</td>\n",
       "      <td>150.000000</td>\n",
       "      <td>150.000000</td>\n",
       "      <td>150.000000</td>\n",
       "    </tr>\n",
       "    <tr>\n",
       "      <th>mean</th>\n",
       "      <td>5.843333</td>\n",
       "      <td>3.054000</td>\n",
       "      <td>3.758667</td>\n",
       "      <td>1.198667</td>\n",
       "    </tr>\n",
       "    <tr>\n",
       "      <th>std</th>\n",
       "      <td>0.828066</td>\n",
       "      <td>0.433594</td>\n",
       "      <td>1.764420</td>\n",
       "      <td>0.763161</td>\n",
       "    </tr>\n",
       "    <tr>\n",
       "      <th>min</th>\n",
       "      <td>4.300000</td>\n",
       "      <td>2.000000</td>\n",
       "      <td>1.000000</td>\n",
       "      <td>0.100000</td>\n",
       "    </tr>\n",
       "    <tr>\n",
       "      <th>25%</th>\n",
       "      <td>5.100000</td>\n",
       "      <td>2.800000</td>\n",
       "      <td>1.600000</td>\n",
       "      <td>0.300000</td>\n",
       "    </tr>\n",
       "    <tr>\n",
       "      <th>50%</th>\n",
       "      <td>5.800000</td>\n",
       "      <td>3.000000</td>\n",
       "      <td>4.350000</td>\n",
       "      <td>1.300000</td>\n",
       "    </tr>\n",
       "    <tr>\n",
       "      <th>75%</th>\n",
       "      <td>6.400000</td>\n",
       "      <td>3.300000</td>\n",
       "      <td>5.100000</td>\n",
       "      <td>1.800000</td>\n",
       "    </tr>\n",
       "    <tr>\n",
       "      <th>max</th>\n",
       "      <td>7.900000</td>\n",
       "      <td>4.400000</td>\n",
       "      <td>6.900000</td>\n",
       "      <td>2.500000</td>\n",
       "    </tr>\n",
       "  </tbody>\n",
       "</table>\n",
       "</div>"
      ],
      "text/plain": [
       "       sepal_length  sepal_width  petal_length  petal_width\n",
       "count    150.000000   150.000000    150.000000   150.000000\n",
       "mean       5.843333     3.054000      3.758667     1.198667\n",
       "std        0.828066     0.433594      1.764420     0.763161\n",
       "min        4.300000     2.000000      1.000000     0.100000\n",
       "25%        5.100000     2.800000      1.600000     0.300000\n",
       "50%        5.800000     3.000000      4.350000     1.300000\n",
       "75%        6.400000     3.300000      5.100000     1.800000\n",
       "max        7.900000     4.400000      6.900000     2.500000"
      ]
     },
     "execution_count": 7,
     "metadata": {},
     "output_type": "execute_result"
    }
   ],
   "source": [
    "data.describe()"
   ]
  },
  {
   "cell_type": "markdown",
   "id": "closing-shuttle",
   "metadata": {
    "papermill": {
     "duration": 0.032849,
     "end_time": "2021-06-21T16:03:18.456012",
     "exception": false,
     "start_time": "2021-06-21T16:03:18.423163",
     "status": "completed"
    },
    "tags": []
   },
   "source": [
    "Scaling the data"
   ]
  },
  {
   "cell_type": "code",
   "execution_count": 8,
   "id": "suspended-western",
   "metadata": {
    "execution": {
     "iopub.execute_input": "2021-06-21T16:03:18.526043Z",
     "iopub.status.busy": "2021-06-21T16:03:18.525586Z",
     "iopub.status.idle": "2021-06-21T16:03:19.704058Z",
     "shell.execute_reply": "2021-06-21T16:03:19.702535Z",
     "shell.execute_reply.started": "2021-06-21T16:00:52.901782Z"
    },
    "papermill": {
     "duration": 1.215504,
     "end_time": "2021-06-21T16:03:19.704233",
     "exception": false,
     "start_time": "2021-06-21T16:03:18.488729",
     "status": "completed"
    },
    "tags": []
   },
   "outputs": [],
   "source": [
    "from sklearn.preprocessing import StandardScaler"
   ]
  },
  {
   "cell_type": "code",
   "execution_count": 9,
   "id": "pressed-government",
   "metadata": {
    "execution": {
     "iopub.execute_input": "2021-06-21T16:03:19.813042Z",
     "iopub.status.busy": "2021-06-21T16:03:19.812354Z",
     "iopub.status.idle": "2021-06-21T16:03:19.815240Z",
     "shell.execute_reply": "2021-06-21T16:03:19.814661Z",
     "shell.execute_reply.started": "2021-06-21T16:00:52.907326Z"
    },
    "papermill": {
     "duration": 0.059654,
     "end_time": "2021-06-21T16:03:19.815394",
     "exception": false,
     "start_time": "2021-06-21T16:03:19.755740",
     "status": "completed"
    },
    "tags": []
   },
   "outputs": [],
   "source": [
    "scaler = StandardScaler()"
   ]
  },
  {
   "cell_type": "code",
   "execution_count": 10,
   "id": "fiscal-deployment",
   "metadata": {
    "execution": {
     "iopub.execute_input": "2021-06-21T16:03:19.922095Z",
     "iopub.status.busy": "2021-06-21T16:03:19.921513Z",
     "iopub.status.idle": "2021-06-21T16:03:19.924579Z",
     "shell.execute_reply": "2021-06-21T16:03:19.923954Z",
     "shell.execute_reply.started": "2021-06-21T16:00:52.919518Z"
    },
    "papermill": {
     "duration": 0.058572,
     "end_time": "2021-06-21T16:03:19.924704",
     "exception": false,
     "start_time": "2021-06-21T16:03:19.866132",
     "status": "completed"
    },
    "tags": []
   },
   "outputs": [],
   "source": [
    "X = data.copy()"
   ]
  },
  {
   "cell_type": "code",
   "execution_count": 11,
   "id": "surprised-regard",
   "metadata": {
    "execution": {
     "iopub.execute_input": "2021-06-21T16:03:20.035008Z",
     "iopub.status.busy": "2021-06-21T16:03:20.034536Z",
     "iopub.status.idle": "2021-06-21T16:03:20.040270Z",
     "shell.execute_reply": "2021-06-21T16:03:20.039624Z",
     "shell.execute_reply.started": "2021-06-21T16:00:52.931455Z"
    },
    "papermill": {
     "duration": 0.064596,
     "end_time": "2021-06-21T16:03:20.040430",
     "exception": false,
     "start_time": "2021-06-21T16:03:19.975834",
     "status": "completed"
    },
    "tags": []
   },
   "outputs": [],
   "source": [
    "x = scaler.fit_transform(X)"
   ]
  },
  {
   "cell_type": "code",
   "execution_count": 12,
   "id": "confused-powder",
   "metadata": {
    "execution": {
     "iopub.execute_input": "2021-06-21T16:03:20.150316Z",
     "iopub.status.busy": "2021-06-21T16:03:20.149832Z",
     "iopub.status.idle": "2021-06-21T16:03:20.153438Z",
     "shell.execute_reply": "2021-06-21T16:03:20.152952Z",
     "shell.execute_reply.started": "2021-06-21T16:00:52.945630Z"
    },
    "papermill": {
     "duration": 0.059834,
     "end_time": "2021-06-21T16:03:20.153551",
     "exception": false,
     "start_time": "2021-06-21T16:03:20.093717",
     "status": "completed"
    },
    "tags": []
   },
   "outputs": [
    {
     "data": {
      "text/plain": [
       "array([[-0.90068117,  1.03205722, -1.3412724 , -1.31297673],\n",
       "       [-1.14301691, -0.1249576 , -1.3412724 , -1.31297673],\n",
       "       [-1.38535265,  0.33784833, -1.39813811, -1.31297673],\n",
       "       [-1.50652052,  0.10644536, -1.2844067 , -1.31297673],\n",
       "       [-1.02184904,  1.26346019, -1.3412724 , -1.31297673]])"
      ]
     },
     "execution_count": 12,
     "metadata": {},
     "output_type": "execute_result"
    }
   ],
   "source": [
    "x[:5,:5]"
   ]
  },
  {
   "cell_type": "markdown",
   "id": "future-education",
   "metadata": {
    "papermill": {
     "duration": 0.033931,
     "end_time": "2021-06-21T16:03:20.220756",
     "exception": false,
     "start_time": "2021-06-21T16:03:20.186825",
     "status": "completed"
    },
    "tags": []
   },
   "source": [
    "### Applying PCA on the data"
   ]
  },
  {
   "cell_type": "code",
   "execution_count": 13,
   "id": "cultural-prophet",
   "metadata": {
    "execution": {
     "iopub.execute_input": "2021-06-21T16:03:20.291503Z",
     "iopub.status.busy": "2021-06-21T16:03:20.290974Z",
     "iopub.status.idle": "2021-06-21T16:03:20.512404Z",
     "shell.execute_reply": "2021-06-21T16:03:20.511886Z",
     "shell.execute_reply.started": "2021-06-21T16:00:52.958565Z"
    },
    "papermill": {
     "duration": 0.258768,
     "end_time": "2021-06-21T16:03:20.512562",
     "exception": false,
     "start_time": "2021-06-21T16:03:20.253794",
     "status": "completed"
    },
    "tags": []
   },
   "outputs": [],
   "source": [
    "from sklearn.decomposition import PCA"
   ]
  },
  {
   "cell_type": "code",
   "execution_count": 14,
   "id": "british-panel",
   "metadata": {
    "execution": {
     "iopub.execute_input": "2021-06-21T16:03:20.586215Z",
     "iopub.status.busy": "2021-06-21T16:03:20.585569Z",
     "iopub.status.idle": "2021-06-21T16:03:20.587918Z",
     "shell.execute_reply": "2021-06-21T16:03:20.588387Z",
     "shell.execute_reply.started": "2021-06-21T16:00:52.968504Z"
    },
    "papermill": {
     "duration": 0.042337,
     "end_time": "2021-06-21T16:03:20.588577",
     "exception": false,
     "start_time": "2021-06-21T16:03:20.546240",
     "status": "completed"
    },
    "tags": []
   },
   "outputs": [],
   "source": [
    "pca = PCA(random_state=42)"
   ]
  },
  {
   "cell_type": "code",
   "execution_count": 15,
   "id": "macro-queensland",
   "metadata": {
    "execution": {
     "iopub.execute_input": "2021-06-21T16:03:20.715685Z",
     "iopub.status.busy": "2021-06-21T16:03:20.714958Z",
     "iopub.status.idle": "2021-06-21T16:03:20.723604Z",
     "shell.execute_reply": "2021-06-21T16:03:20.723057Z",
     "shell.execute_reply.started": "2021-06-21T16:00:52.988260Z"
    },
    "papermill": {
     "duration": 0.083502,
     "end_time": "2021-06-21T16:03:20.723721",
     "exception": false,
     "start_time": "2021-06-21T16:03:20.640219",
     "status": "completed"
    },
    "tags": []
   },
   "outputs": [
    {
     "data": {
      "text/plain": [
       "PCA(random_state=42)"
      ]
     },
     "execution_count": 15,
     "metadata": {},
     "output_type": "execute_result"
    }
   ],
   "source": [
    "pca.fit(x)"
   ]
  },
  {
   "cell_type": "code",
   "execution_count": 16,
   "id": "attached-vocabulary",
   "metadata": {
    "execution": {
     "iopub.execute_input": "2021-06-21T16:03:20.797778Z",
     "iopub.status.busy": "2021-06-21T16:03:20.797074Z",
     "iopub.status.idle": "2021-06-21T16:03:20.801236Z",
     "shell.execute_reply": "2021-06-21T16:03:20.800787Z",
     "shell.execute_reply.started": "2021-06-21T16:00:52.997812Z"
    },
    "papermill": {
     "duration": 0.043427,
     "end_time": "2021-06-21T16:03:20.801349",
     "exception": false,
     "start_time": "2021-06-21T16:03:20.757922",
     "status": "completed"
    },
    "tags": []
   },
   "outputs": [
    {
     "data": {
      "text/plain": [
       "array([[ 0.52237162, -0.26335492,  0.58125401,  0.56561105],\n",
       "       [ 0.37231836,  0.92555649,  0.02109478,  0.06541577],\n",
       "       [-0.72101681,  0.24203288,  0.14089226,  0.6338014 ],\n",
       "       [-0.26199559,  0.12413481,  0.80115427, -0.52354627]])"
      ]
     },
     "execution_count": 16,
     "metadata": {},
     "output_type": "execute_result"
    }
   ],
   "source": [
    "pca.components_"
   ]
  },
  {
   "cell_type": "code",
   "execution_count": 17,
   "id": "direct-filling",
   "metadata": {
    "execution": {
     "iopub.execute_input": "2021-06-21T16:03:20.874654Z",
     "iopub.status.busy": "2021-06-21T16:03:20.874027Z",
     "iopub.status.idle": "2021-06-21T16:03:20.879761Z",
     "shell.execute_reply": "2021-06-21T16:03:20.880227Z",
     "shell.execute_reply.started": "2021-06-21T16:00:53.006674Z"
    },
    "papermill": {
     "duration": 0.044702,
     "end_time": "2021-06-21T16:03:20.880403",
     "exception": false,
     "start_time": "2021-06-21T16:03:20.835701",
     "status": "completed"
    },
    "tags": []
   },
   "outputs": [
    {
     "data": {
      "text/plain": [
       "array([0.72770452, 0.23030523, 0.03683832, 0.00515193])"
      ]
     },
     "execution_count": 17,
     "metadata": {},
     "output_type": "execute_result"
    }
   ],
   "source": [
    "pca.explained_variance_ratio_"
   ]
  },
  {
   "cell_type": "code",
   "execution_count": 18,
   "id": "egyptian-quick",
   "metadata": {
    "execution": {
     "iopub.execute_input": "2021-06-21T16:03:20.992286Z",
     "iopub.status.busy": "2021-06-21T16:03:20.991656Z",
     "iopub.status.idle": "2021-06-21T16:03:20.994257Z",
     "shell.execute_reply": "2021-06-21T16:03:20.994881Z",
     "shell.execute_reply.started": "2021-06-21T16:00:53.016493Z"
    },
    "papermill": {
     "duration": 0.06161,
     "end_time": "2021-06-21T16:03:20.995051",
     "exception": false,
     "start_time": "2021-06-21T16:03:20.933441",
     "status": "completed"
    },
    "tags": []
   },
   "outputs": [],
   "source": [
    "import matplotlib.pyplot as plt"
   ]
  },
  {
   "cell_type": "code",
   "execution_count": 19,
   "id": "induced-nancy",
   "metadata": {
    "execution": {
     "iopub.execute_input": "2021-06-21T16:03:21.105670Z",
     "iopub.status.busy": "2021-06-21T16:03:21.105052Z",
     "iopub.status.idle": "2021-06-21T16:03:21.298831Z",
     "shell.execute_reply": "2021-06-21T16:03:21.297797Z",
     "shell.execute_reply.started": "2021-06-21T16:00:53.024073Z"
    },
    "papermill": {
     "duration": 0.250671,
     "end_time": "2021-06-21T16:03:21.298976",
     "exception": false,
     "start_time": "2021-06-21T16:03:21.048305",
     "status": "completed"
    },
    "tags": []
   },
   "outputs": [
    {
     "data": {
      "text/plain": [
       "<BarContainer object of 4 artists>"
      ]
     },
     "execution_count": 19,
     "metadata": {},
     "output_type": "execute_result"
    },
    {
     "data": {
      "image/png": "[encoded data removed]",
      "text/plain": [
       "<Figure size 432x288 with 1 Axes>"
      ]
     },
     "metadata": {
      "needs_background": "light"
     },
     "output_type": "display_data"
    }
   ],
   "source": [
    "plt.bar(range(1,len(pca.explained_variance_ratio_)+1), pca.explained_variance_ratio_)"
   ]
  },
  {
   "cell_type": "code",
   "execution_count": 20,
   "id": "equivalent-carolina",
   "metadata": {
    "execution": {
     "iopub.execute_input": "2021-06-21T16:03:21.412032Z",
     "iopub.status.busy": "2021-06-21T16:03:21.411513Z",
     "iopub.status.idle": "2021-06-21T16:03:21.414511Z",
     "shell.execute_reply": "2021-06-21T16:03:21.414083Z",
     "shell.execute_reply.started": "2021-06-21T16:00:53.179556Z"
    },
    "papermill": {
     "duration": 0.061531,
     "end_time": "2021-06-21T16:03:21.414619",
     "exception": false,
     "start_time": "2021-06-21T16:03:21.353088",
     "status": "completed"
    },
    "tags": []
   },
   "outputs": [],
   "source": [
    "var_cumu = np.cumsum(pca.explained_variance_ratio_)"
   ]
  },
  {
   "cell_type": "markdown",
   "id": "documentary-township",
   "metadata": {
    "papermill": {
     "duration": 0.034713,
     "end_time": "2021-06-21T16:03:21.483931",
     "exception": false,
     "start_time": "2021-06-21T16:03:21.449218",
     "status": "completed"
    },
    "tags": []
   },
   "source": [
    "#### Making the scree plot"
   ]
  },
  {
   "cell_type": "code",
   "execution_count": 21,
   "id": "portable-renewal",
   "metadata": {
    "execution": {
     "iopub.execute_input": "2021-06-21T16:03:21.573653Z",
     "iopub.status.busy": "2021-06-21T16:03:21.571490Z",
     "iopub.status.idle": "2021-06-21T16:03:21.698719Z",
     "shell.execute_reply": "2021-06-21T16:03:21.698156Z",
     "shell.execute_reply.started": "2021-06-21T16:00:53.185934Z"
    },
    "papermill": {
     "duration": 0.180021,
     "end_time": "2021-06-21T16:03:21.698840",
     "exception": false,
     "start_time": "2021-06-21T16:03:21.518819",
     "status": "completed"
    },
    "tags": []
   },
   "outputs": [
    {
     "data": {
      "text/plain": [
       "[<matplotlib.lines.Line2D at 0x7ff7b1598510>]"
      ]
     },
     "execution_count": 21,
     "metadata": {},
     "output_type": "execute_result"
    },
    {
     "data": {
      "image/png": "[encoded data removed]",
      "text/plain": [
       "<Figure size 432x288 with 1 Axes>"
      ]
     },
     "metadata": {
      "needs_background": "light"
     },
     "output_type": "display_data"
    }
   ],
   "source": [
    "plt.plot(range(1,len(var_cumu)+1), var_cumu)"
   ]
  },
  {
   "cell_type": "markdown",
   "id": "endless-annex",
   "metadata": {
    "papermill": {
     "duration": 0.035658,
     "end_time": "2021-06-21T16:03:21.771270",
     "exception": false,
     "start_time": "2021-06-21T16:03:21.735612",
     "status": "completed"
    },
    "tags": []
   },
   "source": [
    "PCA with 2 components"
   ]
  },
  {
   "cell_type": "code",
   "execution_count": 22,
   "id": "revolutionary-federation",
   "metadata": {
    "execution": {
     "iopub.execute_input": "2021-06-21T16:03:21.848039Z",
     "iopub.status.busy": "2021-06-21T16:03:21.847551Z",
     "iopub.status.idle": "2021-06-21T16:03:21.850638Z",
     "shell.execute_reply": "2021-06-21T16:03:21.850173Z",
     "shell.execute_reply.started": "2021-06-21T16:00:53.328708Z"
    },
    "papermill": {
     "duration": 0.043166,
     "end_time": "2021-06-21T16:03:21.850751",
     "exception": false,
     "start_time": "2021-06-21T16:03:21.807585",
     "status": "completed"
    },
    "tags": []
   },
   "outputs": [],
   "source": [
    "pc2 = PCA(n_components=2, random_state=42)"
   ]
  },
  {
   "cell_type": "code",
   "execution_count": 23,
   "id": "breathing-circuit",
   "metadata": {
    "execution": {
     "iopub.execute_input": "2021-06-21T16:03:21.929171Z",
     "iopub.status.busy": "2021-06-21T16:03:21.927464Z",
     "iopub.status.idle": "2021-06-21T16:03:21.931442Z",
     "shell.execute_reply": "2021-06-21T16:03:21.930811Z",
     "shell.execute_reply.started": "2021-06-21T16:00:53.334891Z"
    },
    "papermill": {
     "duration": 0.044509,
     "end_time": "2021-06-21T16:03:21.931580",
     "exception": false,
     "start_time": "2021-06-21T16:03:21.887071",
     "status": "completed"
    },
    "tags": []
   },
   "outputs": [],
   "source": [
    "newdata = pc2.fit_transform(x)"
   ]
  },
  {
   "cell_type": "code",
   "execution_count": 24,
   "id": "sunrise-leone",
   "metadata": {
    "execution": {
     "iopub.execute_input": "2021-06-21T16:03:22.047754Z",
     "iopub.status.busy": "2021-06-21T16:03:22.047074Z",
     "iopub.status.idle": "2021-06-21T16:03:22.049604Z",
     "shell.execute_reply": "2021-06-21T16:03:22.050099Z",
     "shell.execute_reply.started": "2021-06-21T16:00:53.345932Z"
    },
    "papermill": {
     "duration": 0.063441,
     "end_time": "2021-06-21T16:03:22.050287",
     "exception": false,
     "start_time": "2021-06-21T16:03:21.986846",
     "status": "completed"
    },
    "tags": []
   },
   "outputs": [
    {
     "data": {
      "text/plain": [
       "(150, 2)"
      ]
     },
     "execution_count": 24,
     "metadata": {},
     "output_type": "execute_result"
    }
   ],
   "source": [
    "newdata.shape"
   ]
  },
  {
   "cell_type": "markdown",
   "id": "beneficial-estate",
   "metadata": {
    "papermill": {
     "duration": 0.055367,
     "end_time": "2021-06-21T16:03:22.161276",
     "exception": false,
     "start_time": "2021-06-21T16:03:22.105909",
     "status": "completed"
    },
    "tags": []
   },
   "source": [
    "Making a dataframe out of it for convenience\n",
    "\n"
   ]
  },
  {
   "cell_type": "code",
   "execution_count": 25,
   "id": "downtown-adolescent",
   "metadata": {
    "execution": {
     "iopub.execute_input": "2021-06-21T16:03:22.281545Z",
     "iopub.status.busy": "2021-06-21T16:03:22.280715Z",
     "iopub.status.idle": "2021-06-21T16:03:22.286038Z",
     "shell.execute_reply": "2021-06-21T16:03:22.285504Z",
     "shell.execute_reply.started": "2021-06-21T16:00:53.356749Z"
    },
    "papermill": {
     "duration": 0.06935,
     "end_time": "2021-06-21T16:03:22.286176",
     "exception": false,
     "start_time": "2021-06-21T16:03:22.216826",
     "status": "completed"
    },
    "tags": []
   },
   "outputs": [
    {
     "data": {
      "text/html": [
       "<div>\n",
       "<style scoped>\n",
       "    .dataframe tbody tr th:only-of-type {\n",
       "        vertical-align: middle;\n",
       "    }\n",
       "\n",
       "    .dataframe tbody tr th {\n",
       "        vertical-align: top;\n",
       "    }\n",
       "\n",
       "    .dataframe thead th {\n",
       "        text-align: right;\n",
       "    }\n",
       "</style>\n",
       "<table border=\"1\" class=\"dataframe\">\n",
       "  <thead>\n",
       "    <tr style=\"text-align: right;\">\n",
       "      <th></th>\n",
       "      <th>PC1</th>\n",
       "      <th>PC2</th>\n",
       "    </tr>\n",
       "  </thead>\n",
       "  <tbody>\n",
       "    <tr>\n",
       "      <th>0</th>\n",
       "      <td>-2.264542</td>\n",
       "      <td>0.505704</td>\n",
       "    </tr>\n",
       "    <tr>\n",
       "      <th>1</th>\n",
       "      <td>-2.086426</td>\n",
       "      <td>-0.655405</td>\n",
       "    </tr>\n",
       "    <tr>\n",
       "      <th>2</th>\n",
       "      <td>-2.367950</td>\n",
       "      <td>-0.318477</td>\n",
       "    </tr>\n",
       "    <tr>\n",
       "      <th>3</th>\n",
       "      <td>-2.304197</td>\n",
       "      <td>-0.575368</td>\n",
       "    </tr>\n",
       "    <tr>\n",
       "      <th>4</th>\n",
       "      <td>-2.388777</td>\n",
       "      <td>0.674767</td>\n",
       "    </tr>\n",
       "  </tbody>\n",
       "</table>\n",
       "</div>"
      ],
      "text/plain": [
       "        PC1       PC2\n",
       "0 -2.264542  0.505704\n",
       "1 -2.086426 -0.655405\n",
       "2 -2.367950 -0.318477\n",
       "3 -2.304197 -0.575368\n",
       "4 -2.388777  0.674767"
      ]
     },
     "execution_count": 25,
     "metadata": {},
     "output_type": "execute_result"
    }
   ],
   "source": [
    "df = pd.DataFrame(newdata, columns=[\"PC1\", \"PC2\"])\n",
    "df.head()"
   ]
  },
  {
   "cell_type": "code",
   "execution_count": 26,
   "id": "split-variation",
   "metadata": {
    "execution": {
     "iopub.execute_input": "2021-06-21T16:03:22.403957Z",
     "iopub.status.busy": "2021-06-21T16:03:22.403465Z",
     "iopub.status.idle": "2021-06-21T16:03:22.406120Z",
     "shell.execute_reply": "2021-06-21T16:03:22.405634Z",
     "shell.execute_reply.started": "2021-06-21T16:00:53.371810Z"
    },
    "papermill": {
     "duration": 0.064155,
     "end_time": "2021-06-21T16:03:22.406228",
     "exception": false,
     "start_time": "2021-06-21T16:03:22.342073",
     "status": "completed"
    },
    "tags": []
   },
   "outputs": [],
   "source": [
    "df_final = pd.concat([df, y], axis=1)"
   ]
  },
  {
   "cell_type": "code",
   "execution_count": 27,
   "id": "emotional-unemployment",
   "metadata": {
    "execution": {
     "iopub.execute_input": "2021-06-21T16:03:22.488279Z",
     "iopub.status.busy": "2021-06-21T16:03:22.485998Z",
     "iopub.status.idle": "2021-06-21T16:03:22.494592Z",
     "shell.execute_reply": "2021-06-21T16:03:22.494073Z",
     "shell.execute_reply.started": "2021-06-21T16:00:53.378292Z"
    },
    "papermill": {
     "duration": 0.051533,
     "end_time": "2021-06-21T16:03:22.494701",
     "exception": false,
     "start_time": "2021-06-21T16:03:22.443168",
     "status": "completed"
    },
    "tags": []
   },
   "outputs": [
    {
     "data": {
      "text/html": [
       "<div>\n",
       "<style scoped>\n",
       "    .dataframe tbody tr th:only-of-type {\n",
       "        vertical-align: middle;\n",
       "    }\n",
       "\n",
       "    .dataframe tbody tr th {\n",
       "        vertical-align: top;\n",
       "    }\n",
       "\n",
       "    .dataframe thead th {\n",
       "        text-align: right;\n",
       "    }\n",
       "</style>\n",
       "<table border=\"1\" class=\"dataframe\">\n",
       "  <thead>\n",
       "    <tr style=\"text-align: right;\">\n",
       "      <th></th>\n",
       "      <th>PC1</th>\n",
       "      <th>PC2</th>\n",
       "      <th>species</th>\n",
       "    </tr>\n",
       "  </thead>\n",
       "  <tbody>\n",
       "    <tr>\n",
       "      <th>0</th>\n",
       "      <td>-2.264542</td>\n",
       "      <td>0.505704</td>\n",
       "      <td>Iris-setosa</td>\n",
       "    </tr>\n",
       "    <tr>\n",
       "      <th>1</th>\n",
       "      <td>-2.086426</td>\n",
       "      <td>-0.655405</td>\n",
       "      <td>Iris-setosa</td>\n",
       "    </tr>\n",
       "    <tr>\n",
       "      <th>2</th>\n",
       "      <td>-2.367950</td>\n",
       "      <td>-0.318477</td>\n",
       "      <td>Iris-setosa</td>\n",
       "    </tr>\n",
       "    <tr>\n",
       "      <th>3</th>\n",
       "      <td>-2.304197</td>\n",
       "      <td>-0.575368</td>\n",
       "      <td>Iris-setosa</td>\n",
       "    </tr>\n",
       "    <tr>\n",
       "      <th>4</th>\n",
       "      <td>-2.388777</td>\n",
       "      <td>0.674767</td>\n",
       "      <td>Iris-setosa</td>\n",
       "    </tr>\n",
       "  </tbody>\n",
       "</table>\n",
       "</div>"
      ],
      "text/plain": [
       "        PC1       PC2      species\n",
       "0 -2.264542  0.505704  Iris-setosa\n",
       "1 -2.086426 -0.655405  Iris-setosa\n",
       "2 -2.367950 -0.318477  Iris-setosa\n",
       "3 -2.304197 -0.575368  Iris-setosa\n",
       "4 -2.388777  0.674767  Iris-setosa"
      ]
     },
     "execution_count": 27,
     "metadata": {},
     "output_type": "execute_result"
    }
   ],
   "source": [
    "df_final.head()"
   ]
  },
  {
   "cell_type": "markdown",
   "id": "sexual-plane",
   "metadata": {
    "papermill": {
     "duration": 0.037516,
     "end_time": "2021-06-21T16:03:22.568913",
     "exception": false,
     "start_time": "2021-06-21T16:03:22.531397",
     "status": "completed"
    },
    "tags": []
   },
   "source": [
    "Plotting the data"
   ]
  },
  {
   "cell_type": "code",
   "execution_count": 28,
   "id": "respiratory-cherry",
   "metadata": {
    "execution": {
     "iopub.execute_input": "2021-06-21T16:03:22.648212Z",
     "iopub.status.busy": "2021-06-21T16:03:22.647733Z",
     "iopub.status.idle": "2021-06-21T16:03:22.755817Z",
     "shell.execute_reply": "2021-06-21T16:03:22.756204Z",
     "shell.execute_reply.started": "2021-06-21T16:00:53.393154Z"
    },
    "papermill": {
     "duration": 0.149383,
     "end_time": "2021-06-21T16:03:22.756348",
     "exception": false,
     "start_time": "2021-06-21T16:03:22.606965",
     "status": "completed"
    },
    "tags": []
   },
   "outputs": [],
   "source": [
    "import seaborn as sns"
   ]
  },
  {
   "cell_type": "code",
   "execution_count": 29,
   "id": "continuing-counter",
   "metadata": {
    "execution": {
     "iopub.execute_input": "2021-06-21T16:03:22.836923Z",
     "iopub.status.busy": "2021-06-21T16:03:22.836245Z",
     "iopub.status.idle": "2021-06-21T16:03:23.276249Z",
     "shell.execute_reply": "2021-06-21T16:03:23.275549Z",
     "shell.execute_reply.started": "2021-06-21T16:00:53.403601Z"
    },
    "papermill": {
     "duration": 0.482642,
     "end_time": "2021-06-21T16:03:23.276389",
     "exception": false,
     "start_time": "2021-06-21T16:03:22.793747",
     "status": "completed"
    },
    "tags": []
   },
   "outputs": [
    {
     "name": "stderr",
     "output_type": "stream",
     "text": [
      "/opt/conda/lib/python3.7/site-packages/seaborn/axisgrid.py:1969: UserWarning: The `size` parameter has been renamed to `height`; please update your code.\n",
      "  warnings.warn(msg, UserWarning)\n"
     ]
    },
    {
     "data": {
      "text/plain": [
       "<seaborn.axisgrid.PairGrid at 0x7ff7b0d3e910>"
      ]
     },
     "execution_count": 29,
     "metadata": {},
     "output_type": "execute_result"
    },
    {
     "data": {
      "image/png": "[encoded data removed]",
      "text/plain": [
       "<Figure size 463.25x360 with 1 Axes>"
      ]
     },
     "metadata": {
      "needs_background": "light"
     },
     "output_type": "display_data"
    }
   ],
   "source": [
    "sns.pairplot(data=df_final, x_vars=[\"PC1\"], y_vars=[\"PC2\"], hue = \"species\", size=5)"
   ]
  },
  {
   "cell_type": "code",
   "execution_count": null,
   "id": "latest-lightning",
   "metadata": {
    "papermill": {
     "duration": 0.057924,
     "end_time": "2021-06-21T16:03:23.392595",
     "exception": false,
     "start_time": "2021-06-21T16:03:23.334671",
     "status": "completed"
    },
    "tags": []
   },
   "outputs": [],
   "source": []
  },
  {
   "cell_type": "code",
   "execution_count": null,
   "id": "operational-andrew",
   "metadata": {
    "papermill": {
     "duration": 0.057682,
     "end_time": "2021-06-21T16:03:23.508785",
     "exception": false,
     "start_time": "2021-06-21T16:03:23.451103",
     "status": "completed"
    },
    "tags": []
   },
   "outputs": [],
   "source": []
  },
  {
   "cell_type": "code",
   "execution_count": null,
   "id": "promising-details",
   "metadata": {
    "papermill": {
     "duration": 0.042509,
     "end_time": "2021-06-21T16:03:23.609309",
     "exception": false,
     "start_time": "2021-06-21T16:03:23.566800",
     "status": "completed"
    },
    "tags": []
   },
   "outputs": [],
   "source": []
  },
  {
   "cell_type": "code",
   "execution_count": null,
   "id": "cardiovascular-winner",
   "metadata": {
    "papermill": {
     "duration": 0.038532,
     "end_time": "2021-06-21T16:03:23.687284",
     "exception": false,
     "start_time": "2021-06-21T16:03:23.648752",
     "status": "completed"
    },
    "tags": []
   },
   "outputs": [],
   "source": []
  },
  {
   "cell_type": "code",
   "execution_count": null,
   "id": "imposed-gardening",
   "metadata": {
    "papermill": {
     "duration": 0.038057,
     "end_time": "2021-06-21T16:03:23.765525",
     "exception": false,
     "start_time": "2021-06-21T16:03:23.727468",
     "status": "completed"
    },
    "tags": []
   },
   "outputs": [],
   "source": []
  },
  {
   "cell_type": "code",
   "execution_count": null,
   "id": "hollow-darkness",
   "metadata": {
    "papermill": {
     "duration": 0.038269,
     "end_time": "2021-06-21T16:03:23.842198",
     "exception": false,
     "start_time": "2021-06-21T16:03:23.803929",
     "status": "completed"
    },
    "tags": []
   },
   "outputs": [],
   "source": []
  },
  {
   "cell_type": "code",
   "execution_count": null,
   "id": "rural-invalid",
   "metadata": {
    "papermill": {
     "duration": 0.037964,
     "end_time": "2021-06-21T16:03:23.918456",
     "exception": false,
     "start_time": "2021-06-21T16:03:23.880492",
     "status": "completed"
    },
    "tags": []
   },
   "outputs": [],
   "source": []
  },
  {
   "cell_type": "code",
   "execution_count": null,
   "id": "transparent-romania",
   "metadata": {
    "papermill": {
     "duration": 0.038024,
     "end_time": "2021-06-21T16:03:23.994143",
     "exception": false,
     "start_time": "2021-06-21T16:03:23.956119",
     "status": "completed"
    },
    "tags": []
   },
   "outputs": [],
   "source": []
  },
  {
   "cell_type": "code",
   "execution_count": null,
   "id": "naughty-redhead",
   "metadata": {
    "papermill": {
     "duration": 0.037658,
     "end_time": "2021-06-21T16:03:24.069886",
     "exception": false,
     "start_time": "2021-06-21T16:03:24.032228",
     "status": "completed"
    },
    "tags": []
   },
   "outputs": [],
   "source": []
  },
  {
   "cell_type": "code",
   "execution_count": null,
   "id": "nutritional-opposition",
   "metadata": {
    "papermill": {
     "duration": 0.038103,
     "end_time": "2021-06-21T16:03:24.146233",
     "exception": false,
     "start_time": "2021-06-21T16:03:24.108130",
     "status": "completed"
    },
    "tags": []
   },
   "outputs": [],
   "source": []
  },
  {
   "cell_type": "code",
   "execution_count": null,
   "id": "advanced-trustee",
   "metadata": {
    "papermill": {
     "duration": 0.037886,
     "end_time": "2021-06-21T16:03:24.222623",
     "exception": false,
     "start_time": "2021-06-21T16:03:24.184737",
     "status": "completed"
    },
    "tags": []
   },
   "outputs": [],
   "source": []
  },
  {
   "cell_type": "code",
   "execution_count": null,
   "id": "northern-mistress",
   "metadata": {
    "papermill": {
     "duration": 0.038005,
     "end_time": "2021-06-21T16:03:24.298578",
     "exception": false,
     "start_time": "2021-06-21T16:03:24.260573",
     "status": "completed"
    },
    "tags": []
   },
   "outputs": [],
   "source": []
  },
  {
   "cell_type": "code",
   "execution_count": null,
   "id": "orange-measure",
   "metadata": {
    "papermill": {
     "duration": 0.037958,
     "end_time": "2021-06-21T16:03:24.374720",
     "exception": false,
     "start_time": "2021-06-21T16:03:24.336762",
     "status": "completed"
    },
    "tags": []
   },
   "outputs": [],
   "source": []
  },
  {
   "cell_type": "code",
   "execution_count": null,
   "id": "raising-penny",
   "metadata": {
    "papermill": {
     "duration": 0.038145,
     "end_time": "2021-06-21T16:03:24.451271",
     "exception": false,
     "start_time": "2021-06-21T16:03:24.413126",
     "status": "completed"
    },
    "tags": []
   },
   "outputs": [],
   "source": []
  },
  {
   "cell_type": "code",
   "execution_count": null,
   "id": "featured-metropolitan",
   "metadata": {
    "papermill": {
     "duration": 0.037821,
     "end_time": "2021-06-21T16:03:24.527209",
     "exception": false,
     "start_time": "2021-06-21T16:03:24.489388",
     "status": "completed"
    },
    "tags": []
   },
   "outputs": [],
   "source": []
  },
  {
   "cell_type": "code",
   "execution_count": null,
   "id": "adjustable-willow",
   "metadata": {
    "papermill": {
     "duration": 0.038345,
     "end_time": "2021-06-21T16:03:24.604620",
     "exception": false,
     "start_time": "2021-06-21T16:03:24.566275",
     "status": "completed"
    },
    "tags": []
   },
   "outputs": [],
   "source": []
  },
  {
   "cell_type": "code",
   "execution_count": null,
   "id": "bearing-administration",
   "metadata": {
    "papermill": {
     "duration": 0.039228,
     "end_time": "2021-06-21T16:03:24.683673",
     "exception": false,
     "start_time": "2021-06-21T16:03:24.644445",
     "status": "completed"
    },
    "tags": []
   },
   "outputs": [],
   "source": []
  },
  {
   "cell_type": "code",
   "execution_count": null,
   "id": "stuck-synthetic",
   "metadata": {
    "papermill": {
     "duration": 0.038742,
     "end_time": "2021-06-21T16:03:24.760190",
     "exception": false,
     "start_time": "2021-06-21T16:03:24.721448",
     "status": "completed"
    },
    "tags": []
   },
   "outputs": [],
   "source": []
  },
  {
   "cell_type": "code",
   "execution_count": null,
   "id": "eleven-carbon",
   "metadata": {
    "papermill": {
     "duration": 0.038421,
     "end_time": "2021-06-21T16:03:24.838057",
     "exception": false,
     "start_time": "2021-06-21T16:03:24.799636",
     "status": "completed"
    },
    "tags": []
   },
   "outputs": [],
   "source": []
  },
  {
   "cell_type": "code",
   "execution_count": null,
   "id": "balanced-footwear",
   "metadata": {
    "papermill": {
     "duration": 0.039148,
     "end_time": "2021-06-21T16:03:24.916166",
     "exception": false,
     "start_time": "2021-06-21T16:03:24.877018",
     "status": "completed"
    },
    "tags": []
   },
   "outputs": [],
   "source": []
  },
  {
   "cell_type": "code",
   "execution_count": null,
   "id": "rough-navigation",
   "metadata": {
    "papermill": {
     "duration": 0.038362,
     "end_time": "2021-06-21T16:03:24.993268",
     "exception": false,
     "start_time": "2021-06-21T16:03:24.954906",
     "status": "completed"
    },
    "tags": []
   },
   "outputs": [],
   "source": []
  },
  {
   "cell_type": "code",
   "execution_count": null,
   "id": "effective-tours",
   "metadata": {
    "papermill": {
     "duration": 0.038442,
     "end_time": "2021-06-21T16:03:25.070737",
     "exception": false,
     "start_time": "2021-06-21T16:03:25.032295",
     "status": "completed"
    },
    "tags": []
   },
   "outputs": [],
   "source": []
  },
  {
   "cell_type": "code",
   "execution_count": null,
   "id": "numerical-theology",
   "metadata": {
    "papermill": {
     "duration": 0.038472,
     "end_time": "2021-06-21T16:03:25.147828",
     "exception": false,
     "start_time": "2021-06-21T16:03:25.109356",
     "status": "completed"
    },
    "tags": []
   },
   "outputs": [],
   "source": []
  }
 ],
 "metadata": {
  "kernelspec": {
   "display_name": "Python 3",
   "language": "python",
   "name": "python3"
  },
  "language_info": {
   "codemirror_mode": {
    "name": "ipython",
    "version": 3
   },
   "file_extension": ".py",
   "mimetype": "text/x-python",
   "name": "python",
   "nbconvert_exporter": "python",
   "pygments_lexer": "ipython3",
   "version": "3.7.9"
  },
  "papermill": {
   "default_parameters": {},
   "duration": 15.527469,
   "end_time": "2021-06-21T16:03:26.097829",
   "environment_variables": {},
   "exception": null,
   "input_path": "__notebook__.ipynb",
   "output_path": "__notebook__.ipynb",
   "parameters": {},
   "start_time": "2021-06-21T16:03:10.570360",
   "version": "2.3.2"
  }
 },
 "nbformat": 4,
 "nbformat_minor": 5
}
